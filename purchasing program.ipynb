import json
import datetime
f=open("record.json","r")
jon=f.read()
f.close()
f=open('sales.json',"r")
son=f.read()
f.close()
sell=json.loads(son)
