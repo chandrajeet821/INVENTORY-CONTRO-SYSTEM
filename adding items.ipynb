import json
f=open("record.json","r")
jon=f.read()
f.close()
print("******* ITEMS PRESENT IN INVENTORY*******")
print(jon)

dic=json.loads(jon)
c=0
while(c<1):
    pid=input("enter product id")
    name=input("enter name of product")
    quantity=int(input("enter quantity of product available"))
    price=int(input("enter price of product"))
    mfgc=input("enter manufacturing country's name")
    cmp=input("enter company's name")
    wei=input("enter weight in kg")

    dic.update({pid: {'name': name,
      'quantity':quantity,
        'price': price,
      'mfg_cntry': mfgc,
      'company': cmp,
        'weight_kg': wei}})
    c=int(input("if you want to add new item press 0\nif you do not want to add more item press 1 "))
print("************updated inventory***********")
jon=json.dumps(dic)
print(jon)
f=open("record.json","w")
f.write(jon)
f.close()
